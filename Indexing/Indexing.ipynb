{
 "cells": [
  {
   "cell_type": "markdown",
   "metadata": {},
   "source": [
    "# Integer indexing"
   ]
  },
  {
   "cell_type": "markdown",
   "metadata": {},
   "source": [
    "Indexing with an integer selects a single position within the corresponding dimension:"
   ]
  },
  {
   "cell_type": "code",
   "execution_count": 3,
   "metadata": {},
   "outputs": [
    {
     "data": {
      "text/plain": [
       "TensorStore({\n",
       "  'array': [0, 1, 2],\n",
       "  'context': {'data_copy_concurrency': {}},\n",
       "  'driver': 'array',\n",
       "  'dtype': 'int32',\n",
       "  'transform': {'input_exclusive_max': [3], 'input_inclusive_min': [0]},\n",
       "})"
      ]
     },
     "execution_count": 3,
     "metadata": {},
     "output_type": "execute_result"
    }
   ],
   "source": [
    "import tensorstore as ts\n",
    "a = ts.array([[0, 1, 2], [3, 4, 5]], dtype=ts.int32)\n",
    "a[0]"
   ]
  },
  {
   "cell_type": "code",
   "execution_count": 2,
   "metadata": {},
   "outputs": [
    {
     "data": {
      "text/plain": [
       "TensorStore({\n",
       "  'array': 5,\n",
       "  'context': {'data_copy_concurrency': {}},\n",
       "  'driver': 'array',\n",
       "  'dtype': 'int32',\n",
       "  'transform': {'input_rank': 0},\n",
       "})"
      ]
     },
     "execution_count": 2,
     "metadata": {},
     "output_type": "execute_result"
    }
   ],
   "source": [
    "a[1,2]\n",
    "## 5 being the value at the 1st row and 2nd column of the array"
   ]
  },
  {
   "cell_type": "markdown",
   "metadata": {},
   "source": [
    "Because TensorStore supports index domains defined over negative indices, negative values have no special meaning; they simply refer to negative positions:"
   ]
  },
  {
   "cell_type": "code",
   "execution_count": 24,
   "metadata": {},
   "outputs": [
    {
     "name": "stdout",
     "output_type": "stream",
     "text": [
      "TensorStore({\n",
      "  'array': 1,\n",
      "  'context': {'data_copy_concurrency': {}},\n",
      "  'driver': 'array',\n",
      "  'dtype': 'int32',\n",
      "  'transform': {'input_rank': 0},\n",
      "})\n",
      "TensorStore({\n",
      "  'array': 2,\n",
      "  'context': {'data_copy_concurrency': {}},\n",
      "  'driver': 'array',\n",
      "  'dtype': 'int32',\n",
      "  'transform': {'input_rank': 0},\n",
      "})\n",
      "TensorStore({\n",
      "  'array': 3,\n",
      "  'context': {'data_copy_concurrency': {}},\n",
      "  'driver': 'array',\n",
      "  'dtype': 'int32',\n",
      "  'transform': {'input_rank': 0},\n",
      "})\n"
     ]
    }
   ],
   "source": [
    "a = await ts.open({\n",
    "    \"dtype\": \"int32\",\n",
    "    \"driver\": \"array\",\n",
    "    \"array\": [1, 2, 3],\n",
    "    \"transform\": {\n",
    "        \"input_shape\": [3],\n",
    "        \"input_inclusive_min\": [-10], # -10, -9, -8 are valid 1,2,3 indices\n",
    "        \"output\": [{\n",
    "            \"input_dimension\": 0,\n",
    "            \"offset\": 10\n",
    "        }],\n",
    "    },\n",
    "})\n",
    "print(a[-10])\n",
    "print(a[-9])\n",
    "print(a[-8])"
   ]
  },
  {
   "cell_type": "markdown",
   "metadata": {},
   "source": [
    "Specifying an index outside the implicit bounds of a dimension is permitted:"
   ]
  },
  {
   "cell_type": "code",
   "execution_count": 25,
   "metadata": {},
   "outputs": [
    {
     "data": {
      "text/plain": [
       "Rank 0 -> 1 index space transform:\n",
       "  Input domain:\n",
       "  Output index maps:\n",
       "    out[0] = -1"
      ]
     },
     "execution_count": 25,
     "metadata": {},
     "output_type": "execute_result"
    }
   ],
   "source": [
    "a = ts.IndexTransform(input_shape=[4], implicit_lower_bounds=[True])\n",
    "a[-1]"
   ]
  },
  {
   "cell_type": "code",
   "execution_count": 30,
   "metadata": {},
   "outputs": [
    {
     "data": {
      "text/plain": [
       "Rank 0 -> 1 index space transform:\n",
       "  Input domain:\n",
       "  Output index maps:\n",
       "    out[0] = 3"
      ]
     },
     "execution_count": 30,
     "metadata": {},
     "output_type": "execute_result"
    }
   ],
   "source": [
    "a[3]\n",
    "## a[4] results into an error\n",
    "## Error : Checking bounds of constant output index map for dimension 0: Index 4 is outside valid range (-inf, 4)"
   ]
  },
  {
   "cell_type": "markdown",
   "metadata": {},
   "source": [
    "## Interval indexing"
   ]
  },
  {
   "cell_type": "markdown",
   "metadata": {},
   "source": [
    "Indexing with a slice object start:stop:step selects an interval or strided interval within the corresponding dimension:"
   ]
  },
  {
   "cell_type": "code",
   "execution_count": 37,
   "metadata": {},
   "outputs": [
    {
     "name": "stdout",
     "output_type": "stream",
     "text": [
      "TensorStore({\n",
      "  'array': [1, 2, 3, 4],\n",
      "  'context': {'data_copy_concurrency': {}},\n",
      "  'driver': 'array',\n",
      "  'dtype': 'int32',\n",
      "  'transform': {\n",
      "    'input_exclusive_max': [5],\n",
      "    'input_inclusive_min': [1],\n",
      "    'output': [{'input_dimension': 0, 'offset': -1}],\n",
      "  },\n",
      "})\n",
      "TensorStore({\n",
      "  'array': 2,\n",
      "  'context': {'data_copy_concurrency': {}},\n",
      "  'driver': 'array',\n",
      "  'dtype': 'int32',\n",
      "  'transform': {'input_rank': 0},\n",
      "})\n"
     ]
    }
   ],
   "source": [
    "a = ts.array([0, 1, 2, 3, 4, 5, 6, 7, 8, 9], dtype=ts.int32)\n",
    "print(a[1:5])\n",
    "print(a[1:5][2])"
   ]
  },
  {
   "cell_type": "code",
   "execution_count": 38,
   "metadata": {},
   "outputs": [
    {
     "name": "stdout",
     "output_type": "stream",
     "text": [
      "TensorStore({\n",
      "  'array': [3, 5, 7],\n",
      "  'context': {'data_copy_concurrency': {}},\n",
      "  'driver': 'array',\n",
      "  'dtype': 'int32',\n",
      "  'transform': {\n",
      "    'input_exclusive_max': [4],\n",
      "    'input_inclusive_min': [1],\n",
      "    'output': [{'input_dimension': 0, 'offset': -1}],\n",
      "  },\n",
      "})\n",
      "TensorStore({\n",
      "  'array': [7, 5],\n",
      "  'context': {'data_copy_concurrency': {}},\n",
      "  'driver': 'array',\n",
      "  'dtype': 'int32',\n",
      "  'transform': {\n",
      "    'input_exclusive_max': [-1],\n",
      "    'input_inclusive_min': [-3],\n",
      "    'output': [{'input_dimension': 0, 'offset': 3}],\n",
      "  },\n",
      "})\n"
     ]
    }
   ],
   "source": [
    "## steps\n",
    "print(a[3:8:2])\n",
    "print(a[7:3:-2])"
   ]
  },
  {
   "cell_type": "markdown",
   "metadata": {},
   "source": [
    "Specifying an interval outside the implicit bounds of a dimension is permitted:"
   ]
  },
  {
   "cell_type": "code",
   "execution_count": 39,
   "metadata": {},
   "outputs": [
    {
     "data": {
      "text/plain": [
       "Rank 1 -> 1 index space transform:\n",
       "  Input domain:\n",
       "    0: [-1, 2)\n",
       "  Output index maps:\n",
       "    out[0] = 0 + 1 * in[0]"
      ]
     },
     "execution_count": 39,
     "metadata": {},
     "output_type": "execute_result"
    }
   ],
   "source": [
    "a = ts.IndexTransform(input_shape=[4], implicit_lower_bounds=[True])\n",
    "a[-1:2]"
   ]
  },
  {
   "cell_type": "markdown",
   "metadata": {},
   "source": [
    "Any of the start, stop, or stop values may be specified as a sequence of integer or None values (e.g. a list, tuple or 1-d numpy.ndarray), rather than a single integer:"
   ]
  },
  {
   "cell_type": "code",
   "execution_count": 47,
   "metadata": {},
   "outputs": [
    {
     "name": "stdout",
     "output_type": "stream",
     "text": [
      "TensorStore({\n",
      "  'array': [[6, 7, 8], [10, 11, 12]],\n",
      "  'context': {'data_copy_concurrency': {}},\n",
      "  'driver': 'array',\n",
      "  'dtype': 'int32',\n",
      "  'transform': {\n",
      "    'input_exclusive_max': [3, 4],\n",
      "    'input_inclusive_min': [1, 1],\n",
      "    'output': [\n",
      "      {'input_dimension': 0, 'offset': -1},\n",
      "      {'input_dimension': 1, 'offset': -1},\n",
      "    ],\n",
      "  },\n",
      "})\n",
      "TensorStore({\n",
      "  'array': [[6, 7, 8], [10, 11, 12]],\n",
      "  'context': {'data_copy_concurrency': {}},\n",
      "  'driver': 'array',\n",
      "  'dtype': 'int32',\n",
      "  'transform': {\n",
      "    'input_exclusive_max': [3, 4],\n",
      "    'input_inclusive_min': [1, 1],\n",
      "    'output': [\n",
      "      {'input_dimension': 0, 'offset': -1},\n",
      "      {'input_dimension': 1, 'offset': -1},\n",
      "    ],\n",
      "  },\n",
      "})\n",
      "TensorStore({\n",
      "  'array': [[6, 7, 8], [10, 11, 12]],\n",
      "  'context': {'data_copy_concurrency': {}},\n",
      "  'driver': 'array',\n",
      "  'dtype': 'int32',\n",
      "  'transform': {\n",
      "    'input_exclusive_max': [3, 4],\n",
      "    'input_inclusive_min': [1, 1],\n",
      "    'output': [\n",
      "      {'input_dimension': 0, 'offset': -1},\n",
      "      {'input_dimension': 1, 'offset': -1},\n",
      "    ],\n",
      "  },\n",
      "})\n"
     ]
    }
   ],
   "source": [
    "a = ts.array([[1, 2, 3, 4], [5, 6, 7, 8], [9, 10, 11, 12]], dtype=ts.int32)\n",
    "print(a[(1,1): (3,4)])\n",
    "\n",
    "# Equivalent to specifying a sequence of slice objects:\n",
    "\n",
    "print(a[1:3, 1:4])"
   ]
  },
  {
   "cell_type": "markdown",
   "metadata": {},
   "source": [
    "It is an error to specify a slice with sequences of unequal lengths, but a sequence may be combined with a scalar value:"
   ]
  },
  {
   "cell_type": "code",
   "execution_count": 48,
   "metadata": {},
   "outputs": [
    {
     "name": "stdout",
     "output_type": "stream",
     "text": [
      "TensorStore({\n",
      "  'array': [[6, 7, 8], [10, 11, 12]],\n",
      "  'context': {'data_copy_concurrency': {}},\n",
      "  'driver': 'array',\n",
      "  'dtype': 'int32',\n",
      "  'transform': {\n",
      "    'input_exclusive_max': [3, 4],\n",
      "    'input_inclusive_min': [1, 1],\n",
      "    'output': [\n",
      "      {'input_dimension': 0, 'offset': -1},\n",
      "      {'input_dimension': 1, 'offset': -1},\n",
      "    ],\n",
      "  },\n",
      "})\n"
     ]
    }
   ],
   "source": [
    "print(a[1:(3,4)])"
   ]
  },
  {
   "cell_type": "markdown",
   "metadata": {},
   "source": [
    "## Adding singleton dimensions"
   ]
  },
  {
   "cell_type": "markdown",
   "metadata": {},
   "source": [
    "Specifying a value of tensorstore.newaxis (equal to None) adds a new dummy/singleton dimension with implicit bounds [0,1):"
   ]
  },
  {
   "cell_type": "code",
   "execution_count": 49,
   "metadata": {},
   "outputs": [
    {
     "data": {
      "text/plain": [
       "Rank 3 -> 2 index space transform:\n",
       "  Input domain:\n",
       "    0: [0*, 1*)\n",
       "    1: (-inf*, +inf*)\n",
       "    2: (-inf*, +inf*)\n",
       "  Output index maps:\n",
       "    out[0] = 0 + 1 * in[1]\n",
       "    out[1] = 0 + 1 * in[2]"
      ]
     },
     "execution_count": 49,
     "metadata": {},
     "output_type": "execute_result"
    }
   ],
   "source": [
    "a = ts.IndexTransform(input_rank=2)\n",
    "a[ts.newaxis]"
   ]
  },
  {
   "cell_type": "markdown",
   "metadata": {},
   "source": [
    "This indexing term adds a single dimension after any dimensions added by prior indexing operations:"
   ]
  },
  {
   "cell_type": "code",
   "execution_count": 51,
   "metadata": {},
   "outputs": [
    {
     "data": {
      "text/plain": [
       "Rank 4 -> 2 index space transform:\n",
       "  Input domain:\n",
       "    0: (-inf*, +inf*)\n",
       "    1: [0*, 1*)\n",
       "    2: [0*, 1*)\n",
       "    3: (-inf*, +inf*)\n",
       "  Output index maps:\n",
       "    out[0] = 0 + 1 * in[0]\n",
       "    out[1] = 0 + 1 * in[3]"
      ]
     },
     "execution_count": 51,
     "metadata": {},
     "output_type": "execute_result"
    }
   ],
   "source": [
    "a[:, ts.newaxis, ts.newaxis]"
   ]
  },
  {
   "cell_type": "code",
   "execution_count": null,
   "metadata": {},
   "outputs": [],
   "source": []
  }
 ],
 "metadata": {
  "kernelspec": {
   "display_name": "Python 3.10.4 ('tensorstore')",
   "language": "python",
   "name": "python3"
  },
  "language_info": {
   "codemirror_mode": {
    "name": "ipython",
    "version": 3
   },
   "file_extension": ".py",
   "mimetype": "text/x-python",
   "name": "python",
   "nbconvert_exporter": "python",
   "pygments_lexer": "ipython3",
   "version": "3.10.4"
  },
  "orig_nbformat": 4,
  "vscode": {
   "interpreter": {
    "hash": "ea92185c205064e53b8424dc6e2af8940846dda10ca2f988cd1e0b65031f4846"
   }
  }
 },
 "nbformat": 4,
 "nbformat_minor": 2
}
